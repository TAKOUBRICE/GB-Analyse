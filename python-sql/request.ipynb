{
 "cells": [
  {
   "cell_type": "markdown",
   "id": "68af691e",
   "metadata": {},
   "source": [
    "# **Automatiser les rapports de ventes avec SQL**\n",
    "**Problématique métier**\n",
    " Une entreprise souhaite produire un rapport détaillant les ventes\n",
    " totales par produit pour le dernier trimestre.\n",
    "# **Objectif**\n",
    "Utiliser SQL pour extraire, filtrer et agréger les données nécessaires."
   ]
  },
  {
   "cell_type": "markdown",
   "id": "429153cb",
   "metadata": {},
   "source": [
    "# **IMPORTATION DE LA CLASS DB**"
   ]
  },
  {
   "cell_type": "code",
   "execution_count": 21,
   "id": "2f57682d",
   "metadata": {},
   "outputs": [],
   "source": [
    "import sqlite3\n"
   ]
  },
  {
   "cell_type": "code",
   "execution_count": 25,
   "id": "1083d231",
   "metadata": {},
   "outputs": [],
   "source": [
    "class Database:\n",
    "    def __init__(self, db_path):\n",
    "        \"\"\"Initialise la connexion à la base de données SQLite.\"\"\"\n",
    "        self.db_path = db_path\n",
    "        self.conn = None\n",
    "        self.cursor = None\n",
    "\n",
    "    def connect(self):\n",
    "        \"\"\"Établit la connexion à la base de données.\"\"\"\n",
    "        self.conn = sqlite3.connect(self.db_path)\n",
    "        self.cursor = self.conn.cursor()\n",
    "\n",
    "    def execute_query(self, query, params=None):\n",
    "        \"\"\"Exécute une requête (SELECT, INSERT, UPDATE, etc.).\"\"\"\n",
    "        if self.conn is None:\n",
    "            self.connect()\n",
    "        try:\n",
    "            if params:\n",
    "                self.cursor.execute(query, params)\n",
    "            else:\n",
    "                self.cursor.execute(query)\n",
    "            self.conn.commit()\n",
    "            return self.cursor.fetchall()\n",
    "        except sqlite3.Error as e:\n",
    "            print(f\"Erreur SQLite : {e}\")\n",
    "            return None\n",
    "\n",
    "    def close(self):\n",
    "        \"\"\"Ferme la connexion proprement.\"\"\"\n",
    "        if self.cursor:\n",
    "            self.cursor.close()\n",
    "        if self.conn:\n",
    "            self.conn.close()\n",
    "            self.conn = None\n",
    "            self.cursor = None"
   ]
  },
  {
   "cell_type": "code",
   "execution_count": 29,
   "id": "38126b37",
   "metadata": {},
   "outputs": [],
   "source": [
    "db = Database(\"Chinook_Sqlite.sqlite\")\n",
    "db.connect()\n"
   ]
  },
  {
   "cell_type": "code",
   "execution_count": 30,
   "id": "404cb28e",
   "metadata": {},
   "outputs": [],
   "source": [
    "resultat = db.execute_query(\"SELECT * FROM Artist\")"
   ]
  },
  {
   "cell_type": "markdown",
   "id": "f83ed330",
   "metadata": {},
   "source": [
    "# **Requêtes de base**\n",
    "**1.**\n",
    "    **Clients non américains : Requête affichant les**\n",
    "    **Clients (leurs noms complets, ID client et pays) qui ne sont pas aux**\n",
    "    **États-Unis**"
   ]
  },
  {
   "cell_type": "code",
   "execution_count": 39,
   "id": "3aa7d53e",
   "metadata": {},
   "outputs": [
    {
     "name": "stdout",
     "output_type": "stream",
     "text": [
      "Nombre de client qui sont pas des Etat-Unis: 46\n"
     ]
    }
   ],
   "source": [
    "# Query to select all customers from the USA\n",
    "db_noUsa = db.execute_query(\"SELECT CustomerId,FirstName, LastName, Country FROM customer WHERE country NOT IN('USA')\")\n",
    "print(f\"Nombre de client qui sont pas des Etat-Unis: {len(db_noUsa)}\")\n"
   ]
  }
 ],
 "metadata": {
  "kernelspec": {
   "display_name": "base",
   "language": "python",
   "name": "python3"
  },
  "language_info": {
   "codemirror_mode": {
    "name": "ipython",
    "version": 3
   },
   "file_extension": ".py",
   "mimetype": "text/x-python",
   "name": "python",
   "nbconvert_exporter": "python",
   "pygments_lexer": "ipython3",
   "version": "3.12.7"
  }
 },
 "nbformat": 4,
 "nbformat_minor": 5
}
