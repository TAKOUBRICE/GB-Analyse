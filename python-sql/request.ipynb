{
 "cells": [
  {
   "cell_type": "markdown",
   "id": "68af691e",
   "metadata": {},
   "source": [
    "# **Automatiser les rapports de ventes avec SQL**\n",
    "**Problématique métier**\n",
    " Une entreprise souhaite produire un rapport détaillant les ventes\n",
    " totales par produit pour le dernier trimestre.\n",
    "# **Objectif**\n",
    "Utiliser SQL pour extraire, filtrer et agréger les données nécessaires."
   ]
  },
  {
   "cell_type": "markdown",
   "id": "429153cb",
   "metadata": {},
   "source": [
    "# **IMPORTATION DE LA CLASS DB**"
   ]
  },
  {
   "cell_type": "code",
   "execution_count": 21,
   "id": "2f57682d",
   "metadata": {},
   "outputs": [],
   "source": [
    "import sqlite3\n",
    "from Db import db"
   ]
  },
  {
   "cell_type": "code",
   "execution_count": null,
   "id": "38126b37",
   "metadata": {},
   "outputs": [],
   "source": [
    "conn = db(\"Chinook_Sqlite.sqlite\")\n",
    "conn = db.connect()"
   ]
  },
  {
   "cell_type": "markdown",
   "id": "f83ed330",
   "metadata": {},
   "source": [
    "# **Requêtes de base**\n",
    "**1.**\n",
    "    **Clients non américains : Requête affichant les**\n",
    "    **Clients (leurs noms complets, ID client et pays) qui ne sont pas aux**\n",
    "    **États-Unis**"
   ]
  },
  {
   "cell_type": "code",
   "execution_count": 25,
   "id": "3aa7d53e",
   "metadata": {},
   "outputs": [
    {
     "ename": "AttributeError",
     "evalue": "'db' object has no attribute 'fetch_all'",
     "output_type": "error",
     "traceback": [
      "\u001b[31m---------------------------------------------------------------------------\u001b[39m",
      "\u001b[31mAttributeError\u001b[39m                            Traceback (most recent call last)",
      "\u001b[36mCell\u001b[39m\u001b[36m \u001b[39m\u001b[32mIn[25]\u001b[39m\u001b[32m, line 2\u001b[39m\n\u001b[32m      1\u001b[39m \u001b[38;5;66;03m# Query to select all customers from the USA\u001b[39;00m\n\u001b[32m----> \u001b[39m\u001b[32m2\u001b[39m \u001b[43mconn\u001b[49m\u001b[43m.\u001b[49m\u001b[43mfetch_all\u001b[49m(\u001b[33m\"\u001b[39m\u001b[33mSELECT CustomerId,FirstName, LastName, Country FROM customer WHERE country NOT IN(?)\u001b[39m\u001b[33m\"\u001b[39m, (\u001b[33m\"\u001b[39m\u001b[33mUSA\u001b[39m\u001b[33m\"\u001b[39m))\n",
      "\u001b[31mAttributeError\u001b[39m: 'db' object has no attribute 'fetch_all'"
     ]
    }
   ],
   "source": [
    "# Query to select all customers from the USA\n",
    "conn.fetch_all(\"SELECT CustomerId,FirstName, LastName, Country FROM customer WHERE country NOT IN(?)\", (\"USA\"))"
   ]
  }
 ],
 "metadata": {
  "kernelspec": {
   "display_name": "base",
   "language": "python",
   "name": "python3"
  },
  "language_info": {
   "codemirror_mode": {
    "name": "ipython",
    "version": 3
   },
   "file_extension": ".py",
   "mimetype": "text/x-python",
   "name": "python",
   "nbconvert_exporter": "python",
   "pygments_lexer": "ipython3",
   "version": "3.12.7"
  }
 },
 "nbformat": 4,
 "nbformat_minor": 5
}
