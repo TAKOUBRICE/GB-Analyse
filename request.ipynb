{
 "cells": [
  {
   "cell_type": "markdown",
   "id": "68af691e",
   "metadata": {},
   "source": [
    "# **Automatiser les rapports de ventes avec SQL**\n",
    "**Problématique métier**\n",
    " Une entreprise souhaite produire un rapport détaillant les ventes\n",
    " totales par produit pour le dernier trimestre.\n",
    "# **Objectif**\n",
    "Utiliser SQL pour extraire, filtrer et agréger les données nécessaires."
   ]
  },
  {
   "cell_type": "markdown",
   "id": "429153cb",
   "metadata": {},
   "source": [
    "# **IMPORTATION DE LA CLASS DB**"
   ]
  },
  {
   "cell_type": "code",
   "execution_count": 3,
   "id": "2f57682d",
   "metadata": {},
   "outputs": [],
   "source": [
    "import sqlite3\n",
    "from Db import db"
   ]
  },
  {
   "cell_type": "code",
   "execution_count": 4,
   "id": "38126b37",
   "metadata": {},
   "outputs": [],
   "source": [
    "db = db(\"Chinook_Sqlite.sqlite\")"
   ]
  },
  {
   "cell_type": "code",
   "execution_count": null,
   "id": "3aa7d53e",
   "metadata": {},
   "outputs": [],
   "source": []
  }
 ],
 "metadata": {
  "kernelspec": {
   "display_name": "base",
   "language": "python",
   "name": "python3"
  },
  "language_info": {
   "codemirror_mode": {
    "name": "ipython",
    "version": 3
   },
   "file_extension": ".py",
   "mimetype": "text/x-python",
   "name": "python",
   "nbconvert_exporter": "python",
   "pygments_lexer": "ipython3",
   "version": "3.12.7"
  }
 },
 "nbformat": 4,
 "nbformat_minor": 5
}
